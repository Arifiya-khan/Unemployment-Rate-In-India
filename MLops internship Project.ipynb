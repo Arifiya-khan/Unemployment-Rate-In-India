{
 "cells": [
  {
   "cell_type": "code",
   "execution_count": 1,
   "metadata": {},
   "outputs": [],
   "source": [
    "import pandas as pd\n",
    "import numpy as np"
   ]
  },
  {
   "cell_type": "code",
   "execution_count": 2,
   "metadata": {},
   "outputs": [],
   "source": [
    "dataset=pd.read_csv('Unemployment.csv')"
   ]
  },
  {
   "cell_type": "code",
   "execution_count": 3,
   "metadata": {},
   "outputs": [
    {
     "data": {
      "text/html": [
       "<div>\n",
       "<style scoped>\n",
       "    .dataframe tbody tr th:only-of-type {\n",
       "        vertical-align: middle;\n",
       "    }\n",
       "\n",
       "    .dataframe tbody tr th {\n",
       "        vertical-align: top;\n",
       "    }\n",
       "\n",
       "    .dataframe thead th {\n",
       "        text-align: right;\n",
       "    }\n",
       "</style>\n",
       "<table border=\"1\" class=\"dataframe\">\n",
       "  <thead>\n",
       "    <tr style=\"text-align: right;\">\n",
       "      <th></th>\n",
       "      <th>Region</th>\n",
       "      <th>Date</th>\n",
       "      <th>Frequency</th>\n",
       "      <th>Unemployment_Rate</th>\n",
       "      <th>Estimated_Employed</th>\n",
       "      <th>Estimated_LabourParticipationRate</th>\n",
       "      <th>Area</th>\n",
       "    </tr>\n",
       "  </thead>\n",
       "  <tbody>\n",
       "    <tr>\n",
       "      <th>0</th>\n",
       "      <td>Andhra Pradesh</td>\n",
       "      <td>31-05-2019</td>\n",
       "      <td>Monthly</td>\n",
       "      <td>3.65</td>\n",
       "      <td>11999139</td>\n",
       "      <td>43.24</td>\n",
       "      <td>Rural</td>\n",
       "    </tr>\n",
       "    <tr>\n",
       "      <th>1</th>\n",
       "      <td>Andhra Pradesh</td>\n",
       "      <td>30-06-2019</td>\n",
       "      <td>Monthly</td>\n",
       "      <td>3.05</td>\n",
       "      <td>11755881</td>\n",
       "      <td>42.05</td>\n",
       "      <td>Rural</td>\n",
       "    </tr>\n",
       "    <tr>\n",
       "      <th>2</th>\n",
       "      <td>Andhra Pradesh</td>\n",
       "      <td>31-07-2019</td>\n",
       "      <td>Monthly</td>\n",
       "      <td>3.75</td>\n",
       "      <td>12086707</td>\n",
       "      <td>43.50</td>\n",
       "      <td>Rural</td>\n",
       "    </tr>\n",
       "    <tr>\n",
       "      <th>3</th>\n",
       "      <td>Andhra Pradesh</td>\n",
       "      <td>31-08-2019</td>\n",
       "      <td>Monthly</td>\n",
       "      <td>3.32</td>\n",
       "      <td>12285693</td>\n",
       "      <td>43.97</td>\n",
       "      <td>Rural</td>\n",
       "    </tr>\n",
       "    <tr>\n",
       "      <th>4</th>\n",
       "      <td>Andhra Pradesh</td>\n",
       "      <td>30-09-2019</td>\n",
       "      <td>Monthly</td>\n",
       "      <td>5.17</td>\n",
       "      <td>12256762</td>\n",
       "      <td>44.68</td>\n",
       "      <td>Rural</td>\n",
       "    </tr>\n",
       "    <tr>\n",
       "      <th>...</th>\n",
       "      <td>...</td>\n",
       "      <td>...</td>\n",
       "      <td>...</td>\n",
       "      <td>...</td>\n",
       "      <td>...</td>\n",
       "      <td>...</td>\n",
       "      <td>...</td>\n",
       "    </tr>\n",
       "    <tr>\n",
       "      <th>735</th>\n",
       "      <td>West Bengal</td>\n",
       "      <td>29-02-2020</td>\n",
       "      <td>Monthly</td>\n",
       "      <td>7.55</td>\n",
       "      <td>10871168</td>\n",
       "      <td>44.09</td>\n",
       "      <td>Urban</td>\n",
       "    </tr>\n",
       "    <tr>\n",
       "      <th>736</th>\n",
       "      <td>West Bengal</td>\n",
       "      <td>31-03-2020</td>\n",
       "      <td>Monthly</td>\n",
       "      <td>6.67</td>\n",
       "      <td>10806105</td>\n",
       "      <td>43.34</td>\n",
       "      <td>Urban</td>\n",
       "    </tr>\n",
       "    <tr>\n",
       "      <th>737</th>\n",
       "      <td>West Bengal</td>\n",
       "      <td>30-04-2020</td>\n",
       "      <td>Monthly</td>\n",
       "      <td>15.63</td>\n",
       "      <td>9299466</td>\n",
       "      <td>41.20</td>\n",
       "      <td>Urban</td>\n",
       "    </tr>\n",
       "    <tr>\n",
       "      <th>738</th>\n",
       "      <td>West Bengal</td>\n",
       "      <td>31-05-2020</td>\n",
       "      <td>Monthly</td>\n",
       "      <td>15.22</td>\n",
       "      <td>9240903</td>\n",
       "      <td>40.67</td>\n",
       "      <td>Urban</td>\n",
       "    </tr>\n",
       "    <tr>\n",
       "      <th>739</th>\n",
       "      <td>West Bengal</td>\n",
       "      <td>30-06-2020</td>\n",
       "      <td>Monthly</td>\n",
       "      <td>9.86</td>\n",
       "      <td>9088931</td>\n",
       "      <td>37.57</td>\n",
       "      <td>Urban</td>\n",
       "    </tr>\n",
       "  </tbody>\n",
       "</table>\n",
       "<p>740 rows × 7 columns</p>\n",
       "</div>"
      ],
      "text/plain": [
       "             Region         Date  Frequency  Unemployment_Rate  \\\n",
       "0    Andhra Pradesh   31-05-2019    Monthly               3.65   \n",
       "1    Andhra Pradesh   30-06-2019    Monthly               3.05   \n",
       "2    Andhra Pradesh   31-07-2019    Monthly               3.75   \n",
       "3    Andhra Pradesh   31-08-2019    Monthly               3.32   \n",
       "4    Andhra Pradesh   30-09-2019    Monthly               5.17   \n",
       "..              ...          ...        ...                ...   \n",
       "735     West Bengal   29-02-2020    Monthly               7.55   \n",
       "736     West Bengal   31-03-2020    Monthly               6.67   \n",
       "737     West Bengal   30-04-2020    Monthly              15.63   \n",
       "738     West Bengal   31-05-2020    Monthly              15.22   \n",
       "739     West Bengal   30-06-2020    Monthly               9.86   \n",
       "\n",
       "     Estimated_Employed  Estimated_LabourParticipationRate   Area  \n",
       "0              11999139                              43.24  Rural  \n",
       "1              11755881                              42.05  Rural  \n",
       "2              12086707                              43.50  Rural  \n",
       "3              12285693                              43.97  Rural  \n",
       "4              12256762                              44.68  Rural  \n",
       "..                  ...                                ...    ...  \n",
       "735            10871168                              44.09  Urban  \n",
       "736            10806105                              43.34  Urban  \n",
       "737             9299466                              41.20  Urban  \n",
       "738             9240903                              40.67  Urban  \n",
       "739             9088931                              37.57  Urban  \n",
       "\n",
       "[740 rows x 7 columns]"
      ]
     },
     "execution_count": 3,
     "metadata": {},
     "output_type": "execute_result"
    }
   ],
   "source": [
    "dataset"
   ]
  },
  {
   "cell_type": "code",
   "execution_count": 4,
   "metadata": {},
   "outputs": [
    {
     "name": "stdout",
     "output_type": "stream",
     "text": [
      "<class 'pandas.core.frame.DataFrame'>\n",
      "RangeIndex: 740 entries, 0 to 739\n",
      "Data columns (total 7 columns):\n",
      " #   Column                             Non-Null Count  Dtype  \n",
      "---  ------                             --------------  -----  \n",
      " 0   Region                             740 non-null    object \n",
      " 1   Date                               740 non-null    object \n",
      " 2    Frequency                         740 non-null    object \n",
      " 3   Unemployment_Rate                  740 non-null    float64\n",
      " 4   Estimated_Employed                 740 non-null    int64  \n",
      " 5   Estimated_LabourParticipationRate  740 non-null    float64\n",
      " 6   Area                               740 non-null    object \n",
      "dtypes: float64(2), int64(1), object(4)\n",
      "memory usage: 40.6+ KB\n"
     ]
    }
   ],
   "source": [
    "dataset.info()"
   ]
  },
  {
   "cell_type": "code",
   "execution_count": 5,
   "metadata": {},
   "outputs": [],
   "source": [
    "dataset.drop(' Frequency',axis=1,inplace=True)"
   ]
  },
  {
   "cell_type": "code",
   "execution_count": 6,
   "metadata": {},
   "outputs": [],
   "source": [
    "dataset.drop('Date',axis=1,inplace=True)"
   ]
  },
  {
   "cell_type": "code",
   "execution_count": 7,
   "metadata": {},
   "outputs": [],
   "source": [
    "dataset.Estimated_LabourParticipationRate=dataset.Estimated_LabourParticipationRate.astype(int)"
   ]
  },
  {
   "cell_type": "code",
   "execution_count": 8,
   "metadata": {},
   "outputs": [],
   "source": [
    "dataset.Unemployment_Rate=dataset.Unemployment_Rate.astype(int)"
   ]
  },
  {
   "cell_type": "code",
   "execution_count": 9,
   "metadata": {},
   "outputs": [
    {
     "data": {
      "text/html": [
       "<div>\n",
       "<style scoped>\n",
       "    .dataframe tbody tr th:only-of-type {\n",
       "        vertical-align: middle;\n",
       "    }\n",
       "\n",
       "    .dataframe tbody tr th {\n",
       "        vertical-align: top;\n",
       "    }\n",
       "\n",
       "    .dataframe thead th {\n",
       "        text-align: right;\n",
       "    }\n",
       "</style>\n",
       "<table border=\"1\" class=\"dataframe\">\n",
       "  <thead>\n",
       "    <tr style=\"text-align: right;\">\n",
       "      <th></th>\n",
       "      <th>Region</th>\n",
       "      <th>Unemployment_Rate</th>\n",
       "      <th>Estimated_Employed</th>\n",
       "      <th>Estimated_LabourParticipationRate</th>\n",
       "      <th>Area</th>\n",
       "    </tr>\n",
       "  </thead>\n",
       "  <tbody>\n",
       "    <tr>\n",
       "      <th>0</th>\n",
       "      <td>Andhra Pradesh</td>\n",
       "      <td>3</td>\n",
       "      <td>11999139</td>\n",
       "      <td>43</td>\n",
       "      <td>Rural</td>\n",
       "    </tr>\n",
       "    <tr>\n",
       "      <th>1</th>\n",
       "      <td>Andhra Pradesh</td>\n",
       "      <td>3</td>\n",
       "      <td>11755881</td>\n",
       "      <td>42</td>\n",
       "      <td>Rural</td>\n",
       "    </tr>\n",
       "    <tr>\n",
       "      <th>2</th>\n",
       "      <td>Andhra Pradesh</td>\n",
       "      <td>3</td>\n",
       "      <td>12086707</td>\n",
       "      <td>43</td>\n",
       "      <td>Rural</td>\n",
       "    </tr>\n",
       "    <tr>\n",
       "      <th>3</th>\n",
       "      <td>Andhra Pradesh</td>\n",
       "      <td>3</td>\n",
       "      <td>12285693</td>\n",
       "      <td>43</td>\n",
       "      <td>Rural</td>\n",
       "    </tr>\n",
       "    <tr>\n",
       "      <th>4</th>\n",
       "      <td>Andhra Pradesh</td>\n",
       "      <td>5</td>\n",
       "      <td>12256762</td>\n",
       "      <td>44</td>\n",
       "      <td>Rural</td>\n",
       "    </tr>\n",
       "    <tr>\n",
       "      <th>...</th>\n",
       "      <td>...</td>\n",
       "      <td>...</td>\n",
       "      <td>...</td>\n",
       "      <td>...</td>\n",
       "      <td>...</td>\n",
       "    </tr>\n",
       "    <tr>\n",
       "      <th>735</th>\n",
       "      <td>West Bengal</td>\n",
       "      <td>7</td>\n",
       "      <td>10871168</td>\n",
       "      <td>44</td>\n",
       "      <td>Urban</td>\n",
       "    </tr>\n",
       "    <tr>\n",
       "      <th>736</th>\n",
       "      <td>West Bengal</td>\n",
       "      <td>6</td>\n",
       "      <td>10806105</td>\n",
       "      <td>43</td>\n",
       "      <td>Urban</td>\n",
       "    </tr>\n",
       "    <tr>\n",
       "      <th>737</th>\n",
       "      <td>West Bengal</td>\n",
       "      <td>15</td>\n",
       "      <td>9299466</td>\n",
       "      <td>41</td>\n",
       "      <td>Urban</td>\n",
       "    </tr>\n",
       "    <tr>\n",
       "      <th>738</th>\n",
       "      <td>West Bengal</td>\n",
       "      <td>15</td>\n",
       "      <td>9240903</td>\n",
       "      <td>40</td>\n",
       "      <td>Urban</td>\n",
       "    </tr>\n",
       "    <tr>\n",
       "      <th>739</th>\n",
       "      <td>West Bengal</td>\n",
       "      <td>9</td>\n",
       "      <td>9088931</td>\n",
       "      <td>37</td>\n",
       "      <td>Urban</td>\n",
       "    </tr>\n",
       "  </tbody>\n",
       "</table>\n",
       "<p>740 rows × 5 columns</p>\n",
       "</div>"
      ],
      "text/plain": [
       "             Region  Unemployment_Rate  Estimated_Employed  \\\n",
       "0    Andhra Pradesh                  3            11999139   \n",
       "1    Andhra Pradesh                  3            11755881   \n",
       "2    Andhra Pradesh                  3            12086707   \n",
       "3    Andhra Pradesh                  3            12285693   \n",
       "4    Andhra Pradesh                  5            12256762   \n",
       "..              ...                ...                 ...   \n",
       "735     West Bengal                  7            10871168   \n",
       "736     West Bengal                  6            10806105   \n",
       "737     West Bengal                 15             9299466   \n",
       "738     West Bengal                 15             9240903   \n",
       "739     West Bengal                  9             9088931   \n",
       "\n",
       "     Estimated_LabourParticipationRate   Area  \n",
       "0                                   43  Rural  \n",
       "1                                   42  Rural  \n",
       "2                                   43  Rural  \n",
       "3                                   43  Rural  \n",
       "4                                   44  Rural  \n",
       "..                                 ...    ...  \n",
       "735                                 44  Urban  \n",
       "736                                 43  Urban  \n",
       "737                                 41  Urban  \n",
       "738                                 40  Urban  \n",
       "739                                 37  Urban  \n",
       "\n",
       "[740 rows x 5 columns]"
      ]
     },
     "execution_count": 9,
     "metadata": {},
     "output_type": "execute_result"
    }
   ],
   "source": [
    "dataset"
   ]
  },
  {
   "cell_type": "code",
   "execution_count": 10,
   "metadata": {},
   "outputs": [
    {
     "data": {
      "text/html": [
       "<div>\n",
       "<style scoped>\n",
       "    .dataframe tbody tr th:only-of-type {\n",
       "        vertical-align: middle;\n",
       "    }\n",
       "\n",
       "    .dataframe tbody tr th {\n",
       "        vertical-align: top;\n",
       "    }\n",
       "\n",
       "    .dataframe thead th {\n",
       "        text-align: right;\n",
       "    }\n",
       "</style>\n",
       "<table border=\"1\" class=\"dataframe\">\n",
       "  <thead>\n",
       "    <tr style=\"text-align: right;\">\n",
       "      <th></th>\n",
       "      <th>Unemployment_Rate</th>\n",
       "      <th>Estimated_Employed</th>\n",
       "      <th>Estimated_LabourParticipationRate</th>\n",
       "    </tr>\n",
       "  </thead>\n",
       "  <tbody>\n",
       "    <tr>\n",
       "      <th>Unemployment_Rate</th>\n",
       "      <td>1.000000</td>\n",
       "      <td>-0.223024</td>\n",
       "      <td>0.003409</td>\n",
       "    </tr>\n",
       "    <tr>\n",
       "      <th>Estimated_Employed</th>\n",
       "      <td>-0.223024</td>\n",
       "      <td>1.000000</td>\n",
       "      <td>0.010746</td>\n",
       "    </tr>\n",
       "    <tr>\n",
       "      <th>Estimated_LabourParticipationRate</th>\n",
       "      <td>0.003409</td>\n",
       "      <td>0.010746</td>\n",
       "      <td>1.000000</td>\n",
       "    </tr>\n",
       "  </tbody>\n",
       "</table>\n",
       "</div>"
      ],
      "text/plain": [
       "                                   Unemployment_Rate  Estimated_Employed  \\\n",
       "Unemployment_Rate                           1.000000           -0.223024   \n",
       "Estimated_Employed                         -0.223024            1.000000   \n",
       "Estimated_LabourParticipationRate           0.003409            0.010746   \n",
       "\n",
       "                                   Estimated_LabourParticipationRate  \n",
       "Unemployment_Rate                                           0.003409  \n",
       "Estimated_Employed                                          0.010746  \n",
       "Estimated_LabourParticipationRate                           1.000000  "
      ]
     },
     "execution_count": 10,
     "metadata": {},
     "output_type": "execute_result"
    }
   ],
   "source": [
    "dataset.corr()"
   ]
  },
  {
   "cell_type": "code",
   "execution_count": 11,
   "metadata": {},
   "outputs": [
    {
     "data": {
      "text/plain": [
       "Index(['Region', 'Unemployment_Rate', 'Estimated_Employed',\n",
       "       'Estimated_LabourParticipationRate', 'Area'],\n",
       "      dtype='object')"
      ]
     },
     "execution_count": 11,
     "metadata": {},
     "output_type": "execute_result"
    }
   ],
   "source": [
    "dataset.columns"
   ]
  },
  {
   "cell_type": "code",
   "execution_count": 12,
   "metadata": {},
   "outputs": [],
   "source": [
    "Y=dataset['Unemployment_Rate']"
   ]
  },
  {
   "cell_type": "code",
   "execution_count": 13,
   "metadata": {},
   "outputs": [],
   "source": [
    "X=dataset[['Region','Estimated_Employed', 'Estimated_LabourParticipationRate','Area']]"
   ]
  },
  {
   "cell_type": "code",
   "execution_count": 14,
   "metadata": {},
   "outputs": [
    {
     "data": {
      "text/html": [
       "<div>\n",
       "<style scoped>\n",
       "    .dataframe tbody tr th:only-of-type {\n",
       "        vertical-align: middle;\n",
       "    }\n",
       "\n",
       "    .dataframe tbody tr th {\n",
       "        vertical-align: top;\n",
       "    }\n",
       "\n",
       "    .dataframe thead th {\n",
       "        text-align: right;\n",
       "    }\n",
       "</style>\n",
       "<table border=\"1\" class=\"dataframe\">\n",
       "  <thead>\n",
       "    <tr style=\"text-align: right;\">\n",
       "      <th></th>\n",
       "      <th>Region</th>\n",
       "      <th>Estimated_Employed</th>\n",
       "      <th>Estimated_LabourParticipationRate</th>\n",
       "      <th>Area</th>\n",
       "    </tr>\n",
       "  </thead>\n",
       "  <tbody>\n",
       "    <tr>\n",
       "      <th>0</th>\n",
       "      <td>Andhra Pradesh</td>\n",
       "      <td>11999139</td>\n",
       "      <td>43</td>\n",
       "      <td>Rural</td>\n",
       "    </tr>\n",
       "    <tr>\n",
       "      <th>1</th>\n",
       "      <td>Andhra Pradesh</td>\n",
       "      <td>11755881</td>\n",
       "      <td>42</td>\n",
       "      <td>Rural</td>\n",
       "    </tr>\n",
       "    <tr>\n",
       "      <th>2</th>\n",
       "      <td>Andhra Pradesh</td>\n",
       "      <td>12086707</td>\n",
       "      <td>43</td>\n",
       "      <td>Rural</td>\n",
       "    </tr>\n",
       "    <tr>\n",
       "      <th>3</th>\n",
       "      <td>Andhra Pradesh</td>\n",
       "      <td>12285693</td>\n",
       "      <td>43</td>\n",
       "      <td>Rural</td>\n",
       "    </tr>\n",
       "    <tr>\n",
       "      <th>4</th>\n",
       "      <td>Andhra Pradesh</td>\n",
       "      <td>12256762</td>\n",
       "      <td>44</td>\n",
       "      <td>Rural</td>\n",
       "    </tr>\n",
       "    <tr>\n",
       "      <th>...</th>\n",
       "      <td>...</td>\n",
       "      <td>...</td>\n",
       "      <td>...</td>\n",
       "      <td>...</td>\n",
       "    </tr>\n",
       "    <tr>\n",
       "      <th>735</th>\n",
       "      <td>West Bengal</td>\n",
       "      <td>10871168</td>\n",
       "      <td>44</td>\n",
       "      <td>Urban</td>\n",
       "    </tr>\n",
       "    <tr>\n",
       "      <th>736</th>\n",
       "      <td>West Bengal</td>\n",
       "      <td>10806105</td>\n",
       "      <td>43</td>\n",
       "      <td>Urban</td>\n",
       "    </tr>\n",
       "    <tr>\n",
       "      <th>737</th>\n",
       "      <td>West Bengal</td>\n",
       "      <td>9299466</td>\n",
       "      <td>41</td>\n",
       "      <td>Urban</td>\n",
       "    </tr>\n",
       "    <tr>\n",
       "      <th>738</th>\n",
       "      <td>West Bengal</td>\n",
       "      <td>9240903</td>\n",
       "      <td>40</td>\n",
       "      <td>Urban</td>\n",
       "    </tr>\n",
       "    <tr>\n",
       "      <th>739</th>\n",
       "      <td>West Bengal</td>\n",
       "      <td>9088931</td>\n",
       "      <td>37</td>\n",
       "      <td>Urban</td>\n",
       "    </tr>\n",
       "  </tbody>\n",
       "</table>\n",
       "<p>740 rows × 4 columns</p>\n",
       "</div>"
      ],
      "text/plain": [
       "             Region  Estimated_Employed  Estimated_LabourParticipationRate  \\\n",
       "0    Andhra Pradesh            11999139                                 43   \n",
       "1    Andhra Pradesh            11755881                                 42   \n",
       "2    Andhra Pradesh            12086707                                 43   \n",
       "3    Andhra Pradesh            12285693                                 43   \n",
       "4    Andhra Pradesh            12256762                                 44   \n",
       "..              ...                 ...                                ...   \n",
       "735     West Bengal            10871168                                 44   \n",
       "736     West Bengal            10806105                                 43   \n",
       "737     West Bengal             9299466                                 41   \n",
       "738     West Bengal             9240903                                 40   \n",
       "739     West Bengal             9088931                                 37   \n",
       "\n",
       "      Area  \n",
       "0    Rural  \n",
       "1    Rural  \n",
       "2    Rural  \n",
       "3    Rural  \n",
       "4    Rural  \n",
       "..     ...  \n",
       "735  Urban  \n",
       "736  Urban  \n",
       "737  Urban  \n",
       "738  Urban  \n",
       "739  Urban  \n",
       "\n",
       "[740 rows x 4 columns]"
      ]
     },
     "execution_count": 14,
     "metadata": {},
     "output_type": "execute_result"
    }
   ],
   "source": [
    "X"
   ]
  },
  {
   "cell_type": "code",
   "execution_count": 15,
   "metadata": {},
   "outputs": [],
   "source": [
    "NewArea=X['Area']\n",
    "NewArea=pd.get_dummies(X.Area)\n",
    "#Region=X['Region']\n",
    "#Region=pd.get_dummies(Region,drop_first=True)\n",
    "X=pd.concat([X,NewArea],axis=1)"
   ]
  },
  {
   "cell_type": "code",
   "execution_count": 16,
   "metadata": {},
   "outputs": [],
   "source": [
    "X=pd.get_dummies(X, columns=['Area'], drop_first=True)"
   ]
  },
  {
   "cell_type": "code",
   "execution_count": 17,
   "metadata": {},
   "outputs": [
    {
     "data": {
      "text/html": [
       "<div>\n",
       "<style scoped>\n",
       "    .dataframe tbody tr th:only-of-type {\n",
       "        vertical-align: middle;\n",
       "    }\n",
       "\n",
       "    .dataframe tbody tr th {\n",
       "        vertical-align: top;\n",
       "    }\n",
       "\n",
       "    .dataframe thead th {\n",
       "        text-align: right;\n",
       "    }\n",
       "</style>\n",
       "<table border=\"1\" class=\"dataframe\">\n",
       "  <thead>\n",
       "    <tr style=\"text-align: right;\">\n",
       "      <th></th>\n",
       "      <th>Region</th>\n",
       "      <th>Estimated_Employed</th>\n",
       "      <th>Estimated_LabourParticipationRate</th>\n",
       "      <th>Rural</th>\n",
       "      <th>Urban</th>\n",
       "      <th>Area_Urban</th>\n",
       "    </tr>\n",
       "  </thead>\n",
       "  <tbody>\n",
       "    <tr>\n",
       "      <th>0</th>\n",
       "      <td>Andhra Pradesh</td>\n",
       "      <td>11999139</td>\n",
       "      <td>43</td>\n",
       "      <td>1</td>\n",
       "      <td>0</td>\n",
       "      <td>0</td>\n",
       "    </tr>\n",
       "    <tr>\n",
       "      <th>1</th>\n",
       "      <td>Andhra Pradesh</td>\n",
       "      <td>11755881</td>\n",
       "      <td>42</td>\n",
       "      <td>1</td>\n",
       "      <td>0</td>\n",
       "      <td>0</td>\n",
       "    </tr>\n",
       "    <tr>\n",
       "      <th>2</th>\n",
       "      <td>Andhra Pradesh</td>\n",
       "      <td>12086707</td>\n",
       "      <td>43</td>\n",
       "      <td>1</td>\n",
       "      <td>0</td>\n",
       "      <td>0</td>\n",
       "    </tr>\n",
       "    <tr>\n",
       "      <th>3</th>\n",
       "      <td>Andhra Pradesh</td>\n",
       "      <td>12285693</td>\n",
       "      <td>43</td>\n",
       "      <td>1</td>\n",
       "      <td>0</td>\n",
       "      <td>0</td>\n",
       "    </tr>\n",
       "    <tr>\n",
       "      <th>4</th>\n",
       "      <td>Andhra Pradesh</td>\n",
       "      <td>12256762</td>\n",
       "      <td>44</td>\n",
       "      <td>1</td>\n",
       "      <td>0</td>\n",
       "      <td>0</td>\n",
       "    </tr>\n",
       "    <tr>\n",
       "      <th>...</th>\n",
       "      <td>...</td>\n",
       "      <td>...</td>\n",
       "      <td>...</td>\n",
       "      <td>...</td>\n",
       "      <td>...</td>\n",
       "      <td>...</td>\n",
       "    </tr>\n",
       "    <tr>\n",
       "      <th>735</th>\n",
       "      <td>West Bengal</td>\n",
       "      <td>10871168</td>\n",
       "      <td>44</td>\n",
       "      <td>0</td>\n",
       "      <td>1</td>\n",
       "      <td>1</td>\n",
       "    </tr>\n",
       "    <tr>\n",
       "      <th>736</th>\n",
       "      <td>West Bengal</td>\n",
       "      <td>10806105</td>\n",
       "      <td>43</td>\n",
       "      <td>0</td>\n",
       "      <td>1</td>\n",
       "      <td>1</td>\n",
       "    </tr>\n",
       "    <tr>\n",
       "      <th>737</th>\n",
       "      <td>West Bengal</td>\n",
       "      <td>9299466</td>\n",
       "      <td>41</td>\n",
       "      <td>0</td>\n",
       "      <td>1</td>\n",
       "      <td>1</td>\n",
       "    </tr>\n",
       "    <tr>\n",
       "      <th>738</th>\n",
       "      <td>West Bengal</td>\n",
       "      <td>9240903</td>\n",
       "      <td>40</td>\n",
       "      <td>0</td>\n",
       "      <td>1</td>\n",
       "      <td>1</td>\n",
       "    </tr>\n",
       "    <tr>\n",
       "      <th>739</th>\n",
       "      <td>West Bengal</td>\n",
       "      <td>9088931</td>\n",
       "      <td>37</td>\n",
       "      <td>0</td>\n",
       "      <td>1</td>\n",
       "      <td>1</td>\n",
       "    </tr>\n",
       "  </tbody>\n",
       "</table>\n",
       "<p>740 rows × 6 columns</p>\n",
       "</div>"
      ],
      "text/plain": [
       "             Region  Estimated_Employed  Estimated_LabourParticipationRate  \\\n",
       "0    Andhra Pradesh            11999139                                 43   \n",
       "1    Andhra Pradesh            11755881                                 42   \n",
       "2    Andhra Pradesh            12086707                                 43   \n",
       "3    Andhra Pradesh            12285693                                 43   \n",
       "4    Andhra Pradesh            12256762                                 44   \n",
       "..              ...                 ...                                ...   \n",
       "735     West Bengal            10871168                                 44   \n",
       "736     West Bengal            10806105                                 43   \n",
       "737     West Bengal             9299466                                 41   \n",
       "738     West Bengal             9240903                                 40   \n",
       "739     West Bengal             9088931                                 37   \n",
       "\n",
       "     Rural  Urban  Area_Urban  \n",
       "0        1      0           0  \n",
       "1        1      0           0  \n",
       "2        1      0           0  \n",
       "3        1      0           0  \n",
       "4        1      0           0  \n",
       "..     ...    ...         ...  \n",
       "735      0      1           1  \n",
       "736      0      1           1  \n",
       "737      0      1           1  \n",
       "738      0      1           1  \n",
       "739      0      1           1  \n",
       "\n",
       "[740 rows x 6 columns]"
      ]
     },
     "execution_count": 17,
     "metadata": {},
     "output_type": "execute_result"
    }
   ],
   "source": [
    "X"
   ]
  },
  {
   "cell_type": "code",
   "execution_count": 18,
   "metadata": {},
   "outputs": [],
   "source": [
    "NewRegion=X['Region']\n",
    "NewRegion=pd.get_dummies(X.Region)\n",
    "#Region=X['Region']\n",
    "#Region=pd.get_dummies(Region,drop_first=True)\n",
    "X=pd.concat([X,NewRegion],axis=1)"
   ]
  },
  {
   "cell_type": "code",
   "execution_count": 19,
   "metadata": {},
   "outputs": [],
   "source": [
    "X=pd.get_dummies(X, columns=['Region'], drop_first=True)"
   ]
  },
  {
   "cell_type": "code",
   "execution_count": 20,
   "metadata": {},
   "outputs": [
    {
     "name": "stdout",
     "output_type": "stream",
     "text": [
      "<class 'pandas.core.frame.DataFrame'>\n",
      "RangeIndex: 740 entries, 0 to 739\n",
      "Data columns (total 60 columns):\n",
      " #   Column                             Non-Null Count  Dtype\n",
      "---  ------                             --------------  -----\n",
      " 0   Estimated_Employed                 740 non-null    int64\n",
      " 1   Estimated_LabourParticipationRate  740 non-null    int32\n",
      " 2   Rural                              740 non-null    uint8\n",
      " 3   Urban                              740 non-null    uint8\n",
      " 4   Area_Urban                         740 non-null    uint8\n",
      " 5   Andhra Pradesh                     740 non-null    uint8\n",
      " 6   Assam                              740 non-null    uint8\n",
      " 7   Bihar                              740 non-null    uint8\n",
      " 8   Chandigarh                         740 non-null    uint8\n",
      " 9   Chhattisgarh                       740 non-null    uint8\n",
      " 10  Delhi                              740 non-null    uint8\n",
      " 11  Goa                                740 non-null    uint8\n",
      " 12  Gujarat                            740 non-null    uint8\n",
      " 13  Haryana                            740 non-null    uint8\n",
      " 14  Himachal Pradesh                   740 non-null    uint8\n",
      " 15  Jammu & Kashmir                    740 non-null    uint8\n",
      " 16  Jharkhand                          740 non-null    uint8\n",
      " 17  Karnataka                          740 non-null    uint8\n",
      " 18  Kerala                             740 non-null    uint8\n",
      " 19  Madhya Pradesh                     740 non-null    uint8\n",
      " 20  Maharashtra                        740 non-null    uint8\n",
      " 21  Meghalaya                          740 non-null    uint8\n",
      " 22  Odisha                             740 non-null    uint8\n",
      " 23  Puducherry                         740 non-null    uint8\n",
      " 24  Punjab                             740 non-null    uint8\n",
      " 25  Rajasthan                          740 non-null    uint8\n",
      " 26  Sikkim                             740 non-null    uint8\n",
      " 27  Tamil Nadu                         740 non-null    uint8\n",
      " 28  Telangana                          740 non-null    uint8\n",
      " 29  Tripura                            740 non-null    uint8\n",
      " 30  Uttar Pradesh                      740 non-null    uint8\n",
      " 31  Uttarakhand                        740 non-null    uint8\n",
      " 32  West Bengal                        740 non-null    uint8\n",
      " 33  Region_Assam                       740 non-null    uint8\n",
      " 34  Region_Bihar                       740 non-null    uint8\n",
      " 35  Region_Chandigarh                  740 non-null    uint8\n",
      " 36  Region_Chhattisgarh                740 non-null    uint8\n",
      " 37  Region_Delhi                       740 non-null    uint8\n",
      " 38  Region_Goa                         740 non-null    uint8\n",
      " 39  Region_Gujarat                     740 non-null    uint8\n",
      " 40  Region_Haryana                     740 non-null    uint8\n",
      " 41  Region_Himachal Pradesh            740 non-null    uint8\n",
      " 42  Region_Jammu & Kashmir             740 non-null    uint8\n",
      " 43  Region_Jharkhand                   740 non-null    uint8\n",
      " 44  Region_Karnataka                   740 non-null    uint8\n",
      " 45  Region_Kerala                      740 non-null    uint8\n",
      " 46  Region_Madhya Pradesh              740 non-null    uint8\n",
      " 47  Region_Maharashtra                 740 non-null    uint8\n",
      " 48  Region_Meghalaya                   740 non-null    uint8\n",
      " 49  Region_Odisha                      740 non-null    uint8\n",
      " 50  Region_Puducherry                  740 non-null    uint8\n",
      " 51  Region_Punjab                      740 non-null    uint8\n",
      " 52  Region_Rajasthan                   740 non-null    uint8\n",
      " 53  Region_Sikkim                      740 non-null    uint8\n",
      " 54  Region_Tamil Nadu                  740 non-null    uint8\n",
      " 55  Region_Telangana                   740 non-null    uint8\n",
      " 56  Region_Tripura                     740 non-null    uint8\n",
      " 57  Region_Uttar Pradesh               740 non-null    uint8\n",
      " 58  Region_Uttarakhand                 740 non-null    uint8\n",
      " 59  Region_West Bengal                 740 non-null    uint8\n",
      "dtypes: int32(1), int64(1), uint8(58)\n",
      "memory usage: 50.7 KB\n"
     ]
    }
   ],
   "source": [
    "X.info()"
   ]
  },
  {
   "cell_type": "code",
   "execution_count": 21,
   "metadata": {},
   "outputs": [],
   "source": [
    "import matplotlib.pyplot as plt\n",
    "import seaborn as sns\n",
    "sns.set()"
   ]
  },
  {
   "cell_type": "code",
   "execution_count": 22,
   "metadata": {},
   "outputs": [
    {
     "data": {
      "text/plain": [
       "<matplotlib.axes._subplots.AxesSubplot at 0x2086e3698c8>"
      ]
     },
     "execution_count": 22,
     "metadata": {},
     "output_type": "execute_result"
    },
    {
     "data": {
      "image/png": "[encoded data removed]",
      "text/plain": [
       "<Figure size 432x288 with 2 Axes>"
      ]
     },
     "metadata": {},
     "output_type": "display_data"
    }
   ],
   "source": [
    "sns.heatmap(dataset.isnull())"
   ]
  },
  {
   "cell_type": "code",
   "execution_count": 23,
   "metadata": {},
   "outputs": [
    {
     "data": {
      "text/plain": [
       "<matplotlib.axes._subplots.AxesSubplot at 0x2086eaf1b88>"
      ]
     },
     "execution_count": 23,
     "metadata": {},
     "output_type": "execute_result"
    },
    {
     "data": {
      "image/png": "[encoded data removed]",
      "text/plain": [
       "<Figure size 432x288 with 2 Axes>"
      ]
     },
     "metadata": {},
     "output_type": "display_data"
    }
   ],
   "source": [
    "sns.heatmap(dataset.corr())"
   ]
  },
  {
   "cell_type": "code",
   "execution_count": 24,
   "metadata": {},
   "outputs": [
    {
     "data": {
      "text/plain": [
       "<matplotlib.axes._subplots.AxesSubplot at 0x2086ebf0cc8>"
      ]
     },
     "execution_count": 24,
     "metadata": {},
     "output_type": "execute_result"
    },
    {
     "data": {
      "image/png": "[encoded data removed]",
      "text/plain": [
       "<Figure size 432x288 with 1 Axes>"
      ]
     },
     "metadata": {},
     "output_type": "display_data"
    }
   ],
   "source": [
    "sns.barplot(data=dataset ,y='Unemployment_Rate', x='Area')"
   ]
  },
  {
   "cell_type": "code",
   "execution_count": 25,
   "metadata": {},
   "outputs": [],
   "source": [
    "from sklearn.model_selection import train_test_split\n",
    "from sklearn import linear_model\n",
    "from sklearn.metrics import mean_squared_error,r2_score"
   ]
  },
  {
   "cell_type": "code",
   "execution_count": 26,
   "metadata": {},
   "outputs": [],
   "source": [
    "X_train, X_test, y_train, y_test = train_test_split(X, Y, test_size=0.30, random_state=42)"
   ]
  },
  {
   "cell_type": "code",
   "execution_count": 27,
   "metadata": {},
   "outputs": [],
   "source": [
    "from sklearn.ensemble import RandomForestRegressor"
   ]
  },
  {
   "cell_type": "code",
   "execution_count": 28,
   "metadata": {},
   "outputs": [],
   "source": [
    "fit_RF=RandomForestRegressor(n_estimators=200).fit(X_train,y_train)"
   ]
  },
  {
   "cell_type": "code",
   "execution_count": 29,
   "metadata": {},
   "outputs": [],
   "source": [
    "pred_train=fit_RF.predict(X_train)\n",
    "pred_test=fit_RF.predict(X_test)"
   ]
  },
  {
   "cell_type": "code",
   "execution_count": 30,
   "metadata": {},
   "outputs": [],
   "source": [
    "RMSE_train=np.sqrt(mean_squared_error(y_train,pred_train))\n",
    "RMSE_test=np.sqrt(mean_squared_error(y_train,pred_train))"
   ]
  },
  {
   "cell_type": "code",
   "execution_count": 31,
   "metadata": {},
   "outputs": [
    {
     "name": "stdout",
     "output_type": "stream",
     "text": [
      "Root mean square=2.502523215094106\n",
      "2.502523215094106\n"
     ]
    }
   ],
   "source": [
    "print(\"Root mean square=\" +str(RMSE_train))\n",
    "print(RMSE_test)"
   ]
  },
  {
   "cell_type": "code",
   "execution_count": 32,
   "metadata": {},
   "outputs": [
    {
     "data": {
      "text/plain": [
       "0.9439522227052193"
      ]
     },
     "execution_count": 32,
     "metadata": {},
     "output_type": "execute_result"
    }
   ],
   "source": [
    "r2_score(y_train,pred_train)"
   ]
  },
  {
   "cell_type": "code",
   "execution_count": 33,
   "metadata": {},
   "outputs": [
    {
     "data": {
      "text/plain": [
       "0.7051611537237532"
      ]
     },
     "execution_count": 33,
     "metadata": {},
     "output_type": "execute_result"
    }
   ],
   "source": [
    "r2_score(y_test,pred_test)"
   ]
  },
  {
   "cell_type": "code",
   "execution_count": 34,
   "metadata": {},
   "outputs": [],
   "source": [
    "from sklearn.ensemble import GradientBoostingRegressor"
   ]
  },
  {
   "cell_type": "code",
   "execution_count": 35,
   "metadata": {},
   "outputs": [],
   "source": [
    "fit_GB=GradientBoostingRegressor().fit(X_train,y_train)"
   ]
  },
  {
   "cell_type": "code",
   "execution_count": 36,
   "metadata": {},
   "outputs": [],
   "source": [
    "pred_train_GB=fit_GB.predict(X_train)\n",
    "pred_test_GB=fit_GB.predict(X_test)"
   ]
  },
  {
   "cell_type": "code",
   "execution_count": 37,
   "metadata": {},
   "outputs": [],
   "source": [
    "RMSE_train_GB=np.sqrt(mean_squared_error(y_train,pred_train))\n",
    "RMSE_test_GB=np.sqrt(mean_squared_error(y_train,pred_train))"
   ]
  },
  {
   "cell_type": "code",
   "execution_count": 38,
   "metadata": {},
   "outputs": [
    {
     "name": "stdout",
     "output_type": "stream",
     "text": [
      "Root mean square of training data=2.502523215094106\n",
      "Root mean square of training data=2.502523215094106\n"
     ]
    }
   ],
   "source": [
    "print(\"Root mean square of training data=\" +str(RMSE_train_GB))\n",
    "print(\"Root mean square of training data=\"+str(RMSE_test_GB))"
   ]
  },
  {
   "cell_type": "code",
   "execution_count": 39,
   "metadata": {},
   "outputs": [
    {
     "data": {
      "text/plain": [
       "0.6596521579920647"
      ]
     },
     "execution_count": 39,
     "metadata": {},
     "output_type": "execute_result"
    }
   ],
   "source": [
    "r2_score(y_test,pred_test_GB)"
   ]
  },
  {
   "cell_type": "code",
   "execution_count": 40,
   "metadata": {},
   "outputs": [
    {
     "data": {
      "text/plain": [
       "0.7745024484481238"
      ]
     },
     "execution_count": 40,
     "metadata": {},
     "output_type": "execute_result"
    }
   ],
   "source": [
    "r2_score(y_train,pred_train_GB)"
   ]
  },
  {
   "cell_type": "code",
   "execution_count": null,
   "metadata": {},
   "outputs": [],
   "source": []
  }
 ],
 "metadata": {
  "kernelspec": {
   "display_name": "Python 3",
   "language": "python",
   "name": "python3"
  },
  "language_info": {
   "codemirror_mode": {
    "name": "ipython",
    "version": 3
   },
   "file_extension": ".py",
   "mimetype": "text/x-python",
   "name": "python",
   "nbconvert_exporter": "python",
   "pygments_lexer": "ipython3",
   "version": "3.7.6"
  }
 },
 "nbformat": 4,
 "nbformat_minor": 4
}
